{
 "cells": [
  {
   "cell_type": "code",
   "execution_count": 1,
   "id": "b0726c6f",
   "metadata": {},
   "outputs": [],
   "source": [
    "# Q1, Create a vehicle class with an init method having instance variables as name_of_vehicle, max_speed and average_of_vehicle. "
   ]
  },
  {
   "cell_type": "code",
   "execution_count": 5,
   "id": "9404541d",
   "metadata": {},
   "outputs": [],
   "source": [
    "class vehicle:\n",
    "    \n",
    "    def __init__(self, name_of_vehicle, max_speed , average_of_vehicle ):\n",
    "        self.name = name_of_vehicle\n",
    "        self.speed = max_speed\n",
    "        self.average =average_of_vehicle\n",
    "        \n"
   ]
  },
  {
   "cell_type": "code",
   "execution_count": 6,
   "id": "f2ea9769",
   "metadata": {},
   "outputs": [],
   "source": [
    "# 2.  Create a child class car from the vehicle class created in Que 1, which will inherit the vehicle class. Create a method named seating_capacity which takes capacity as an argument and returns the name of the vehicle and its seating capacity"
   ]
  },
  {
   "cell_type": "code",
   "execution_count": 7,
   "id": "600ea1d8",
   "metadata": {},
   "outputs": [],
   "source": [
    "class car(vehicle):\n",
    "    def seating_capacity(self, capacity):\n",
    "        self.seating_capacity = capacity\n",
    "        return (self.name , self.seating_capacity)"
   ]
  },
  {
   "cell_type": "code",
   "execution_count": 10,
   "id": "a29d9c59",
   "metadata": {},
   "outputs": [
    {
     "name": "stdout",
     "output_type": "stream",
     "text": [
      "('neno', 5)\n"
     ]
    }
   ],
   "source": [
    "obj1 = car(\"neno\" , 100,35)\n",
    "\n",
    "print(obj1.seating_capacity(5))"
   ]
  },
  {
   "cell_type": "code",
   "execution_count": 3,
   "id": "1ddd154a",
   "metadata": {},
   "outputs": [],
   "source": [
    "# Q3. What is multiple inheritance? Write a python code to demonstrate multiple inheritance"
   ]
  },
  {
   "cell_type": "code",
   "execution_count": null,
   "id": "7bd7182d",
   "metadata": {},
   "outputs": [],
   "source": [
    "# in multiple inheritance child class can inherate property of two or more differant parent class"
   ]
  },
  {
   "cell_type": "code",
   "execution_count": 12,
   "id": "7c898cb8",
   "metadata": {},
   "outputs": [],
   "source": [
    "class vehical:\n",
    "    def car(self):\n",
    "        print(\"this is a car class\")\n",
    "    def bike(self):\n",
    "        print(\"this is a bike class\")\n",
    "        \n",
    "class colour:\n",
    "    def red(self):\n",
    "        print(\"this is a red colour\")\n",
    "    def black(self):\n",
    "        print(\"this is a black colour\")\n",
    "        \n",
    "class model(vehical , colour):\n",
    "    def thar(self):\n",
    "        self.car()\n",
    "        self.black()\n",
    "    def r1(self):\n",
    "        self.bike()\n",
    "        self.red()"
   ]
  },
  {
   "cell_type": "code",
   "execution_count": 19,
   "id": "a6cc2242",
   "metadata": {},
   "outputs": [
    {
     "name": "stdout",
     "output_type": "stream",
     "text": [
      "this is a bike class\n",
      "this is a red colour\n"
     ]
    }
   ],
   "source": [
    "obj = model()\n",
    "# obj.thar()\n",
    "\n",
    "# obj.bike()\n",
    "obj.r1()"
   ]
  },
  {
   "cell_type": "code",
   "execution_count": 4,
   "id": "51daf8c3",
   "metadata": {},
   "outputs": [],
   "source": [
    "# Q4. What are getter and setter in python? Create a class and create a getter and a setter method in this \n",
    "# class."
   ]
  },
  {
   "cell_type": "code",
   "execution_count": 20,
   "id": "298b78bc",
   "metadata": {},
   "outputs": [],
   "source": [
    "#  getter and setter used in python to get and set the protected variable. \n",
    "#  In python protected variable can not accessable to the external user."
   ]
  },
  {
   "cell_type": "code",
   "execution_count": 41,
   "id": "7466b72f",
   "metadata": {},
   "outputs": [],
   "source": [
    "class age:\n",
    "    def __init__(self, name ,age):\n",
    "        self.__name = name\n",
    "        self.__age = age\n",
    "    # getter \n",
    "    @property\n",
    "    def show(self):\n",
    "        print(f\"name : {self.__name} age : {self.__age}\")\n",
    "    \n",
    "    # setter \n",
    "    @show.setter\n",
    "    def value(self , n_age):\n",
    "        if n_age >0:\n",
    "            self.__age = n_age\n",
    "        else :\n",
    "            print(\"can not change in age\")\n",
    "            "
   ]
  },
  {
   "cell_type": "code",
   "execution_count": 42,
   "id": "69cba94a",
   "metadata": {},
   "outputs": [
    {
     "name": "stdout",
     "output_type": "stream",
     "text": [
      "name : dhruv age : 18\n",
      "name : dhruv age : 20\n"
     ]
    }
   ],
   "source": [
    "ob = age(\"dhruv\" , 18)\n",
    "ob.show\n",
    "\n",
    "ob.value = 20\n",
    "\n",
    "ob.show"
   ]
  },
  {
   "cell_type": "code",
   "execution_count": 5,
   "id": "3419053e",
   "metadata": {},
   "outputs": [],
   "source": [
    "# 5.What is method overriding in python? Write a python code to demonstrate method overriding."
   ]
  },
  {
   "cell_type": "code",
   "execution_count": 43,
   "id": "4275789d",
   "metadata": {},
   "outputs": [],
   "source": [
    "# method overriding in python means chid class have a methos that have same method name ,same parameters , same signature \n",
    "# of its parent class method then we can say parent class method is overriding in chid class \n"
   ]
  },
  {
   "cell_type": "code",
   "execution_count": 52,
   "id": "c7126277",
   "metadata": {},
   "outputs": [],
   "source": [
    "class parent:\n",
    "    \n",
    "    def __init__(self):\n",
    "        print(\"i am parent class constructor\")\n",
    "    \n",
    "    def demo(self):\n",
    "        print(\"i am a parent class method\")\n",
    "        \n",
    "class child(parent):\n",
    "    \n",
    "    # child class constructor \n",
    "    \n",
    "    def __init__(self):\n",
    "        print(\"i am child class method constructor\")\n",
    "        \n",
    "    # parent class demo method is overriding\n",
    "    \n",
    "    def demo(self):\n",
    "        print(\"i am child class method\")"
   ]
  },
  {
   "cell_type": "code",
   "execution_count": 53,
   "id": "325dec5b",
   "metadata": {},
   "outputs": [
    {
     "name": "stdout",
     "output_type": "stream",
     "text": [
      "i am child class method constructor\n",
      "i am child class method\n"
     ]
    }
   ],
   "source": [
    "obj = child() \n",
    "\n",
    "obj.demo()"
   ]
  }
 ],
 "metadata": {
  "kernelspec": {
   "display_name": "Python 3 (ipykernel)",
   "language": "python",
   "name": "python3"
  },
  "language_info": {
   "codemirror_mode": {
    "name": "ipython",
    "version": 3
   },
   "file_extension": ".py",
   "mimetype": "text/x-python",
   "name": "python",
   "nbconvert_exporter": "python",
   "pygments_lexer": "ipython3",
   "version": "3.9.7"
  }
 },
 "nbformat": 4,
 "nbformat_minor": 5
}
